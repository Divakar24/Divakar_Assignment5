{
 "cells": [
  {
   "cell_type": "markdown",
   "id": "d413f459",
   "metadata": {},
   "source": [
    "# Difference Between PCA and LDA"
   ]
  },
  {
   "cell_type": "markdown",
   "id": "c210dd2e",
   "metadata": {},
   "source": [
    "# PCA"
   ]
  },
  {
   "cell_type": "markdown",
   "id": "b5502ada",
   "metadata": {},
   "source": [
    "PCA (Principal Component Analysis) and LDA (Linear Discriminant Analysis) are two widely used linear transformation techniques in machine learning and data analysis. These techniques aim to transform the data into a new coordinate system for analysis and modeling purposes.\n",
    "\n",
    "PCA is an unsupervised technique used for dimensionality reduction, which involves identifying the most significant patterns or trends in a dataset. It achieves this by finding the principal components of the dataset, which are the directions of maximum variance. These principal components are a linear combination of the original variables and provide new insights into the data by reducing its dimensionality.\n"
   ]
  },
  {
   "cell_type": "markdown",
   "id": "b9b53adb",
   "metadata": {},
   "source": [
    "# LDA"
   ]
  },
  {
   "cell_type": "markdown",
   "id": "8b8cd00c",
   "metadata": {},
   "source": [
    "In contrast, LDA is a supervised technique that considers the class labels of the data while transforming it. The goal of LDA is to find a linear combination of the original variables that maximizes the separation between the classes. It achieves this by finding the discriminant functions, which are linear combinations of the original variables that have the highest possible separation between the classes.\n",
    "\n",
    "\n",
    "\n",
    "In summary, while both PCA and LDA transform the data into a new coordinate system, PCA is an unsupervised technique used for dimensionality reduction, while LDA is a supervised technique used for feature extraction and classification. PCA finds the directions of maximum variance in the data, while LDA finds the directions of maximum separation between the classes.\n",
    "In summary, the main differences between PCA and LDA are:\n",
    "\n",
    "Objective: PCA aims to find a new set of variables that explain the maximum amount of variance in the data, while LDA aims to find a new set of variables that maximize the class separability.\n",
    "\n",
    "Supervision: PCA is an unsupervised method, while LDA is a supervised method.\n",
    "\n",
    "Use case: PCA is mainly used for exploratory data analysis, data compression, and feature extraction, while LDA is mainly used for classification tasks."
   ]
  },
  {
   "cell_type": "code",
   "execution_count": null,
   "id": "ecc099f0",
   "metadata": {},
   "outputs": [],
   "source": []
  }
 ],
 "metadata": {
  "kernelspec": {
   "display_name": "Python 3 (ipykernel)",
   "language": "python",
   "name": "python3"
  },
  "language_info": {
   "codemirror_mode": {
    "name": "ipython",
    "version": 3
   },
   "file_extension": ".py",
   "mimetype": "text/x-python",
   "name": "python",
   "nbconvert_exporter": "python",
   "pygments_lexer": "ipython3",
   "version": "3.9.13"
  }
 },
 "nbformat": 4,
 "nbformat_minor": 5
}
